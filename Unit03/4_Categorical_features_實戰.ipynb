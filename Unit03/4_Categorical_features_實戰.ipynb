{
 "cells": [
  {
   "cell_type": "markdown",
   "metadata": {},
   "source": [
    "# 資料前處理(Label encoding、 One hot encoding)\n",
    "這兩個編碼方式的目的是為了將類別 (categorical)或是文字(text)的資料轉換成數字，而讓程式能夠更好的去理解及運算。\n",
    "> Label encoding : 把每個類別 mapping 到某個整數，不會增加新欄位\n",
    "\n",
    "> One hot encoding : 為每個類別新增一個欄位，用 0/1 表示是否\n",
    "\n",
    "![](images/Encoder.PNG)\n",
    "\n",
    "\n",
    "## Encoding Categorical features (or label)\n",
    "![](images/Encoding.PNG)\n"
   ]
  },
  {
   "cell_type": "code",
   "execution_count": 1,
   "metadata": {},
   "outputs": [],
   "source": [
    "import pandas as pd\n",
    "import numpy as np\n"
   ]
  },
  {
   "cell_type": "code",
   "execution_count": 2,
   "metadata": {},
   "outputs": [
    {
     "data": {
      "text/html": [
       "<div>\n",
       "<style scoped>\n",
       "    .dataframe tbody tr th:only-of-type {\n",
       "        vertical-align: middle;\n",
       "    }\n",
       "\n",
       "    .dataframe tbody tr th {\n",
       "        vertical-align: top;\n",
       "    }\n",
       "\n",
       "    .dataframe thead th {\n",
       "        text-align: right;\n",
       "    }\n",
       "</style>\n",
       "<table border=\"1\" class=\"dataframe\">\n",
       "  <thead>\n",
       "    <tr style=\"text-align: right;\">\n",
       "      <th></th>\n",
       "      <th>blood</th>\n",
       "      <th>Y</th>\n",
       "      <th>Z</th>\n",
       "    </tr>\n",
       "  </thead>\n",
       "  <tbody>\n",
       "    <tr>\n",
       "      <th>0</th>\n",
       "      <td>A</td>\n",
       "      <td>high</td>\n",
       "      <td>NaN</td>\n",
       "    </tr>\n",
       "    <tr>\n",
       "      <th>1</th>\n",
       "      <td>B</td>\n",
       "      <td>low</td>\n",
       "      <td>NaN</td>\n",
       "    </tr>\n",
       "    <tr>\n",
       "      <th>2</th>\n",
       "      <td>AB</td>\n",
       "      <td>high</td>\n",
       "      <td>-1196.0</td>\n",
       "    </tr>\n",
       "    <tr>\n",
       "      <th>3</th>\n",
       "      <td>O</td>\n",
       "      <td>mid</td>\n",
       "      <td>72.0</td>\n",
       "    </tr>\n",
       "    <tr>\n",
       "      <th>4</th>\n",
       "      <td>B</td>\n",
       "      <td>mid</td>\n",
       "      <td>83.0</td>\n",
       "    </tr>\n",
       "  </tbody>\n",
       "</table>\n",
       "</div>"
      ],
      "text/plain": [
       "  blood     Y       Z\n",
       "0     A  high     NaN\n",
       "1     B   low     NaN\n",
       "2    AB  high -1196.0\n",
       "3     O   mid    72.0\n",
       "4     B   mid    83.0"
      ]
     },
     "execution_count": 2,
     "metadata": {},
     "output_type": "execute_result"
    }
   ],
   "source": [
    "df = pd.DataFrame({'blood':['A','B','AB','O','B'], \n",
    "                   'Y':['high','low','high','mid','mid'],\n",
    "                   'Z':[np.nan,np.nan,-1196,72,83]});\n",
    "df"
   ]
  },
  {
   "cell_type": "markdown",
   "metadata": {},
   "source": [
    "# 方法一：sklearn - label encoder + onehot encoder\n",
    ">onehot encoder要用2D array，若維度所以要用reshape(-1,1)<br>\n",
    ">onehot encoder要數字，若資料文文字要先用label encoder轉數字"
   ]
  },
  {
   "cell_type": "code",
   "execution_count": 9,
   "metadata": {},
   "outputs": [
    {
     "name": "stdout",
     "output_type": "stream",
     "text": [
      "   blood     Y       Z\n",
      "0      0  high     NaN\n",
      "1      2   low     NaN\n",
      "2      1  high -1196.0\n",
      "3      3   mid    72.0\n",
      "4      2   mid    83.0\n"
     ]
    }
   ],
   "source": [
    "from sklearn.preprocessing import LabelEncoder\n",
    "\n",
    "y = df[\"blood\"]\n",
    "encoder = LabelEncoder()\n",
    "ordinal_y = encoder.fit_transform(y)\n",
    "df[\"blood\"] = ordinal_y\n",
    "\n",
    "print(df)"
   ]
  },
  {
   "cell_type": "code",
   "execution_count": 12,
   "metadata": {},
   "outputs": [
    {
     "name": "stdout",
     "output_type": "stream",
     "text": [
      "<class 'numpy.ndarray'>\n",
      "[[1. 0. 0. 0.]\n",
      " [0. 0. 1. 0.]\n",
      " [0. 1. 0. 0.]\n",
      " [0. 0. 0. 1.]\n",
      " [0. 0. 1. 0.]]\n"
     ]
    }
   ],
   "source": [
    "y = np.array(df[\"blood\"]).reshape((-1, 1))\n",
    "encoder = OneHotEncoder()\n",
    "categorical_y = encoder.fit_transform(y).toarray()\n",
    "\n",
    "print(type(categorical_y))\n",
    "print(categorical_y)"
   ]
  },
  {
   "cell_type": "markdown",
   "metadata": {},
   "source": [
    "## One hot encoding\n",
    "One Hot encoding的編碼邏輯為將類別拆成多個行(column)，每個列中的數值由1、0替代，當某一列的資料存在的該行的類別則顯示1，反則顯示0。\n",
    "\n",
    "然在指定column進行編碼的情形下，One hot encoding<b>無法直接對字串進行編碼，必須先透過Label encoding將字串以數字取代後再進行One hot encoding處理。</b>\n",
    "\n",
    "> categorical_features = [0]: 表示欲在data上執行One hot encoding的index為0\n",
    "\n",
    "> data_le: 為經過Label encoding編碼的資料(註:OneHotEncoder的輸入要為2-D array，而Label encoding為1-D array)\n"
   ]
  },
  {
   "cell_type": "markdown",
   "metadata": {},
   "source": [
    "OneHotEncoder會轉出scipy.csr_matrix資料結構用.toarray()轉array\n",
    "從結果可以知道，數字0的column 代表的是A、數字1的column 代表的是B，而數字2的column 代表的是AB。\n",
    "除了轉換字串外，One hot encoding也可以轉換數字。在此處的data就不需要先經過Label encoding編碼\n",
    "\n",
    "```python\n",
    "# importing one hot encoder from sklearn \n",
    "# There are changes in OneHotEncoder class \n",
    "from sklearn.preprocessing import OneHotEncoder \n",
    "from sklearn.compose import ColumnTransformer \n",
    "   \n",
    "# creating one hot encoder object with categorical feature 0 \n",
    "# indicating the first column \n",
    "columnTransformer = ColumnTransformer([('encoder', \n",
    "                                        OneHotEncoder(), \n",
    "                                        [0])], \n",
    "                                      remainder='passthrough') \n",
    "  \n",
    "data = np.array(columnTransformer.fit_transform(data), dtype = str) \n",
    "```"
   ]
  },
  {
   "cell_type": "code",
   "execution_count": null,
   "metadata": {},
   "outputs": [],
   "source": [
    "# importing one hot encoder from sklearn \n",
    "# There are changes in OneHotEncoder class \n",
    "from sklearn.preprocessing import OneHotEncoder \n",
    "from sklearn.compose import ColumnTransformer \n",
    "\n",
    "# creating one hot encoder object with categorical feature 0 \n",
    "# indicating the first column \n",
    "columnTransformer = ColumnTransformer([('encoder', \n",
    "                                        OneHotEncoder(), \n",
    "                                        [0])], \n",
    "                                      remainder='passthrough') \n"
   ]
  },
  {
   "cell_type": "markdown",
   "metadata": {},
   "source": [
    "# 方法二：Keras - label encoder + to_categorical\n",
    ">to_categorical要數字，若資料文文字要先用label encoder轉數字"
   ]
  },
  {
   "cell_type": "code",
   "execution_count": 14,
   "metadata": {},
   "outputs": [
    {
     "name": "stdout",
     "output_type": "stream",
     "text": [
      "[[1. 0. 0. 0.]\n",
      " [0. 0. 1. 0.]\n",
      " [0. 1. 0. 0.]\n",
      " [0. 0. 0. 1.]\n",
      " [0. 0. 1. 0.]]\n"
     ]
    }
   ],
   "source": [
    "from sklearn.preprocessing import LabelEncoder\n",
    "from keras.utils import np_utils\n",
    "\n",
    "df = pd.DataFrame({'blood':['A','B','AB','O','B'], \n",
    "                   'Y':['high','low','high','mid','mid'],\n",
    "                   'Z':[np.nan,np.nan,-1196,72,83]});\n",
    "\n",
    "# label encoder \n",
    "encoder = LabelEncoder()\n",
    "ordinary_y = encoder.fit_transform(df[\"blood\"])\n",
    "\n",
    "# convert integers to one hot encoding\n",
    "\n",
    "categorical_y = np_utils.to_categorical(ordinary_y)\n",
    "\n",
    "print(categorical_y)\n"
   ]
  },
  {
   "cell_type": "markdown",
   "metadata": {},
   "source": [
    "## 方法三：pd.get_dummies方法\n",
    "![](images/Encoding_pd.PNG)\n",
    "pd.get_dummies(df)\n",
    ">get_dummies可以直接轉字串，反而無法轉換數字<br>\n",
    ">get_dummies沒指定columns，會全部轉換"
   ]
  },
  {
   "cell_type": "code",
   "execution_count": 15,
   "metadata": {},
   "outputs": [
    {
     "name": "stdout",
     "output_type": "stream",
     "text": [
      "        Z  blood_A  blood_AB  blood_B  blood_O  Y_high  Y_low  Y_mid\n",
      "0     NaN        1         0        0        0       1      0      0\n",
      "1     NaN        0         0        1        0       0      1      0\n",
      "2 -1196.0        0         1        0        0       1      0      0\n",
      "3    72.0        0         0        0        1       0      0      1\n",
      "4    83.0        0         0        1        0       0      0      1\n",
      "   A  AB  B  O\n",
      "0  1   0  0  0\n",
      "1  0   0  1  0\n",
      "2  0   1  0  0\n",
      "3  0   0  0  1\n",
      "4  0   0  1  0\n"
     ]
    }
   ],
   "source": [
    "df = pd.DataFrame({'blood':['A','B','AB','O','B'], \n",
    "                   'Y':['high','low','high','mid','mid'],\n",
    "                   'Z':[np.nan,np.nan,-1196,72,83]})\n",
    "\n",
    "df1 = pd.get_dummies(df)\n",
    "print(df1)\n",
    "\n",
    "df2 = pd.get_dummies(df[\"blood\"])\n",
    "print(df2)"
   ]
  },
  {
   "cell_type": "markdown",
   "metadata": {},
   "source": [
    "## 練習一：sklearn - label encoder + onehot encoder\n",
    "下面的資料可以看到country那欄皆為字串， 大部分的模型都是基於數學運算，字串無法套入數學模型進行運算，<br>\n",
    "在此先對其進行Label encoding編碼，我們從 sklearn library中導入 LabelEncoder class，對第一行資料進行fit及transform並取代之。"
   ]
  },
  {
   "cell_type": "code",
   "execution_count": 16,
   "metadata": {},
   "outputs": [
    {
     "data": {
      "text/html": [
       "<div>\n",
       "<style scoped>\n",
       "    .dataframe tbody tr th:only-of-type {\n",
       "        vertical-align: middle;\n",
       "    }\n",
       "\n",
       "    .dataframe tbody tr th {\n",
       "        vertical-align: top;\n",
       "    }\n",
       "\n",
       "    .dataframe thead th {\n",
       "        text-align: right;\n",
       "    }\n",
       "</style>\n",
       "<table border=\"1\" class=\"dataframe\">\n",
       "  <thead>\n",
       "    <tr style=\"text-align: right;\">\n",
       "      <th></th>\n",
       "      <th>Country</th>\n",
       "      <th>Age</th>\n",
       "      <th>Salary</th>\n",
       "    </tr>\n",
       "  </thead>\n",
       "  <tbody>\n",
       "    <tr>\n",
       "      <th>0</th>\n",
       "      <td>Taiwan</td>\n",
       "      <td>25</td>\n",
       "      <td>20000</td>\n",
       "    </tr>\n",
       "    <tr>\n",
       "      <th>1</th>\n",
       "      <td>Australia</td>\n",
       "      <td>30</td>\n",
       "      <td>32000</td>\n",
       "    </tr>\n",
       "    <tr>\n",
       "      <th>2</th>\n",
       "      <td>Ireland</td>\n",
       "      <td>45</td>\n",
       "      <td>59000</td>\n",
       "    </tr>\n",
       "    <tr>\n",
       "      <th>3</th>\n",
       "      <td>Australia</td>\n",
       "      <td>35</td>\n",
       "      <td>60000</td>\n",
       "    </tr>\n",
       "    <tr>\n",
       "      <th>4</th>\n",
       "      <td>Ireland</td>\n",
       "      <td>22</td>\n",
       "      <td>43000</td>\n",
       "    </tr>\n",
       "    <tr>\n",
       "      <th>5</th>\n",
       "      <td>Taiwan</td>\n",
       "      <td>36</td>\n",
       "      <td>52000</td>\n",
       "    </tr>\n",
       "  </tbody>\n",
       "</table>\n",
       "</div>"
      ],
      "text/plain": [
       "     Country  Age  Salary\n",
       "0     Taiwan   25   20000\n",
       "1  Australia   30   32000\n",
       "2    Ireland   45   59000\n",
       "3  Australia   35   60000\n",
       "4    Ireland   22   43000\n",
       "5     Taiwan   36   52000"
      ]
     },
     "execution_count": 16,
     "metadata": {},
     "output_type": "execute_result"
    }
   ],
   "source": [
    "import numpy as np\n",
    "import pandas as pd\n",
    "country=['Taiwan','Australia','Ireland','Australia','Ireland','Taiwan']\n",
    "age=[25,30,45,35,22,36]\n",
    "salary=[20000,32000,59000,60000,43000,52000]\n",
    "dic={'Country':country,'Age':age,'Salary':salary}\n",
    "data=pd.DataFrame(dic)\n",
    "data"
   ]
  },
  {
   "cell_type": "code",
   "execution_count": 17,
   "metadata": {},
   "outputs": [
    {
     "name": "stdout",
     "output_type": "stream",
     "text": [
      "[[0. 0. 1.]\n",
      " [1. 0. 0.]\n",
      " [0. 1. 0.]\n",
      " [1. 0. 0.]\n",
      " [0. 1. 0.]\n",
      " [0. 0. 1.]]\n",
      "           Country  Age  Salary\n",
      "0  [0.0, 0.0, 1.0]   25   20000\n",
      "1  [1.0, 0.0, 0.0]   30   32000\n",
      "2  [0.0, 1.0, 0.0]   45   59000\n",
      "3  [1.0, 0.0, 0.0]   35   60000\n",
      "4  [0.0, 1.0, 0.0]   22   43000\n",
      "5  [0.0, 0.0, 1.0]   36   52000\n"
     ]
    }
   ],
   "source": [
    "data1 = data.copy()\n",
    "data1[\"Country\"] = LabelEncoder().fit_transform(data1[\"Country\"])\n",
    "categorical_country = OneHotEncoder().fit_transform(np.array(data1[\"Country\"]).reshape(-1, 1)).toarray()\n",
    "print(categorical_country)\n",
    "\n",
    "data1[\"Country\"] = data1[\"Country\"].astype(object)\n",
    "for i_row in range(data1.shape[0]):\n",
    "    data1.at[i_row, \"Country\"] = categorical_country[i_row, :]\n",
    "\n",
    "print(data1)"
   ]
  },
  {
   "cell_type": "markdown",
   "metadata": {},
   "source": [
    "## 練習二：Keras - label encoder + to_categorical"
   ]
  },
  {
   "cell_type": "code",
   "execution_count": 20,
   "metadata": {},
   "outputs": [
    {
     "name": "stdout",
     "output_type": "stream",
     "text": [
      "[[0. 0. 1.]\n",
      " [1. 0. 0.]\n",
      " [0. 1. 0.]\n",
      " [1. 0. 0.]\n",
      " [0. 1. 0.]\n",
      " [0. 0. 1.]]\n",
      "           Country  Age  Salary\n",
      "0  [0.0, 0.0, 1.0]   25   20000\n",
      "1  [1.0, 0.0, 0.0]   30   32000\n",
      "2  [0.0, 1.0, 0.0]   45   59000\n",
      "3  [1.0, 0.0, 0.0]   35   60000\n",
      "4  [0.0, 1.0, 0.0]   22   43000\n",
      "5  [0.0, 0.0, 1.0]   36   52000\n"
     ]
    }
   ],
   "source": [
    "from keras.utils import np_utils\n",
    "\n",
    "data2 = data.copy()\n",
    "\n",
    "categorical_country = np_utils.to_categorical(LabelEncoder().fit_transform(data2[\"Country\"]))\n",
    "print(categorical_country)\n",
    "\n",
    "data2[\"Country\"] = data2[\"Country\"].astype(object)\n",
    "for i_row in range(data2.shape[0]):\n",
    "    data2.at[i_row, \"Country\"] = categorical_country[i_row, :]\n",
    "\n",
    "print(data2)"
   ]
  },
  {
   "cell_type": "markdown",
   "metadata": {},
   "source": [
    "## 練習三：Pandas.get_dummies\n",
    ">　get_dummies : 僅能將字串轉換為One hot encoding表示形式， 沒指定columns會全部轉換。"
   ]
  },
  {
   "cell_type": "code",
   "execution_count": 21,
   "metadata": {},
   "outputs": [
    {
     "name": "stdout",
     "output_type": "stream",
     "text": [
      "   Australia  Ireland  Taiwan\n",
      "0          0        0       1\n",
      "1          1        0       0\n",
      "2          0        1       0\n",
      "3          1        0       0\n",
      "4          0        1       0\n",
      "5          0        0       1\n"
     ]
    }
   ],
   "source": [
    "data3 = data.copy()\n",
    "categorical_country_df = pd.get_dummies(data3[\"Country\"])\n",
    "print(categorical_country_df)"
   ]
  }
 ],
 "metadata": {
  "kernelspec": {
   "display_name": "Python 3 (ipykernel)",
   "language": "python",
   "name": "python3"
  },
  "language_info": {
   "codemirror_mode": {
    "name": "ipython",
    "version": 3
   },
   "file_extension": ".py",
   "mimetype": "text/x-python",
   "name": "python",
   "nbconvert_exporter": "python",
   "pygments_lexer": "ipython3",
   "version": "3.9.12"
  }
 },
 "nbformat": 4,
 "nbformat_minor": 4
}
