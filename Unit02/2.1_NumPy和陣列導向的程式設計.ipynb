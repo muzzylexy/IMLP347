{
 "cells": [
  {
   "cell_type": "markdown",
   "metadata": {},
   "source": [
    "# NumPy 和陣列導向的程式設計\n",
    "\n",
    "`NumPy` 可以說是 Python 中最最標準的科學計算、數據分析套件。也因為 `NumPy` 的出現, 讓 Python 有了非常好的數據分析基礎, 一直到現在成為數據分析覇主。"
   ]
  },
  {
   "cell_type": "code",
   "execution_count": 1,
   "metadata": {},
   "outputs": [],
   "source": [
    "import numpy as np"
   ]
  },
  {
   "cell_type": "markdown",
   "metadata": {},
   "source": [
    "## 1. 陣列導向 101\n",
    "\n",
    "科學計算一個很核心的概念叫 \"array oriented\" 的寫法。Array 是 `numpy` 標準的資料結構, 和 list 很像, 但就差了那麼一點點。而這一點點讓我們在計算上是無比的方便。"
   ]
  },
  {
   "cell_type": "markdown",
   "metadata": {},
   "source": [
    "### 【暖身】 計算平均\n",
    "\n",
    "某位同學期中考各科成績如下, 請幫他計算成績。\n",
    "\n",
    "    grades = [77, 85, 56, 90, 66]\n",
    "    \n",
    "請計算平均。"
   ]
  },
  {
   "cell_type": "code",
   "execution_count": 2,
   "metadata": {},
   "outputs": [
    {
     "name": "stdout",
     "output_type": "stream",
     "text": [
      "Average = 74.8, Sum = 374\n"
     ]
    }
   ],
   "source": [
    "grades = np.array([77, 85, 56, 90, 66])\n",
    "print(f\"Average = {np.mean(grades)}, Sum = {np.sum(grades)}\")\n"
   ]
  },
  {
   "cell_type": "markdown",
   "metadata": {},
   "source": [
    "### 【示範】陣列導向"
   ]
  },
  {
   "cell_type": "code",
   "execution_count": 3,
   "metadata": {},
   "outputs": [
    {
     "name": "stdout",
     "output_type": "stream",
     "text": [
      "Average = 74.8, Sum = 374\n",
      "Max = 90, Std = 12.42\n"
     ]
    }
   ],
   "source": [
    "grades = np.array([77, 85, 56, 90, 66])\n",
    "\n",
    "print(f\"Average = {np.mean(grades):.4}, Sum = {np.sum(grades)}\")\n",
    "print(f\"Max = {np.max(grades)}, Std = {np.std(grades):.4}\")"
   ]
  },
  {
   "cell_type": "markdown",
   "metadata": {},
   "source": [
    "最大值"
   ]
  },
  {
   "cell_type": "markdown",
   "metadata": {},
   "source": [
    "標準差"
   ]
  },
  {
   "cell_type": "markdown",
   "metadata": {},
   "source": [
    "### 【暖身】 換算匯率\n",
    "\n",
    "假設今天我想查查號稱 Pentax 三公主的 31mm, 43mm, 77mm 三隻 limited 鏡頭在美國賣多少。於是我去 B&H 查了他們的價格分別是:\n",
    "\n",
    "    prices = [1096.95, 596.95, 896.95]\n",
    "    \n",
    "我又查了 Google 匯率 1 美金為 31.71 元。請把三支鏡頭的價格換算為台幣。"
   ]
  },
  {
   "cell_type": "code",
   "execution_count": 4,
   "metadata": {},
   "outputs": [
    {
     "name": "stdout",
     "output_type": "stream",
     "text": [
      "NT$ [34784.2845 18929.2845 28442.2845]\n"
     ]
    }
   ],
   "source": [
    "prices = np.array([1096.95, 596.95, 896.95])\n",
    "print(f\"NT$ {prices*31.71}\")"
   ]
  },
  {
   "cell_type": "markdown",
   "metadata": {},
   "source": [
    "先不管這實在有夠醜的數字, 我們要記得在科學計算中:\n",
    "\n",
    "### 儘可能不要使用迴圈\n",
    "\n",
    "這可能嗎?"
   ]
  },
  {
   "cell_type": "markdown",
   "metadata": {},
   "source": [
    "### 【示範】陣列換算匯率"
   ]
  },
  {
   "cell_type": "markdown",
   "metadata": {},
   "source": [
    "哦哦, 傑克, 這太神奇了!"
   ]
  },
  {
   "cell_type": "markdown",
   "metadata": {},
   "source": [
    "## 2. 其實 array 還有很多功能\n",
    "\n",
    "### 【練習】 成績計算\n",
    "\n",
    "一位老師成績這樣算的:\n",
    "\n",
    "* 平時成績 20%\n",
    "* 期中考   35%\n",
    "* 期未考   45%\n",
    "\n",
    "有位同學\n",
    "\n",
    "* 平時成績 85 分\n",
    "* 期中 70 分\n",
    "* 期末 80 分\n",
    "\n",
    "這位同學的學期成績是多少?"
   ]
  },
  {
   "cell_type": "code",
   "execution_count": 5,
   "metadata": {},
   "outputs": [
    {
     "name": "stdout",
     "output_type": "stream",
     "text": [
      "學期成績 = 77.5\n"
     ]
    }
   ],
   "source": [
    "grades = np.array([85.0, 70.0, 80.0])\n",
    "weights = np.array([0.2, 0.35, 0.45])\n",
    "\n",
    "print(f\"學期成績 = {np.average(grades, weights = weights)}\")"
   ]
  },
  {
   "cell_type": "markdown",
   "metadata": {},
   "source": [
    "這還不是我們要的最終成績啊!"
   ]
  },
  {
   "cell_type": "markdown",
   "metadata": {},
   "source": [
    "### 【提示】 array 還有很多函數可以用\n",
    "\n",
    "可以先打入\n",
    "\n",
    "    weighted_grades.\n",
    "    \n",
    "先不要按 `enter` 或 `shift-enter`, 而是按 `tab`...\n"
   ]
  },
  {
   "cell_type": "markdown",
   "metadata": {},
   "source": [
    "### 【技巧】 一行完成成績計算"
   ]
  },
  {
   "cell_type": "markdown",
   "metadata": {},
   "source": [
    "## 3. 重要的 array 大變身!\n",
    "\n",
    "我們在數據分析, 常常要改 array 的型式。"
   ]
  },
  {
   "cell_type": "markdown",
   "metadata": {},
   "source": [
    "### 【練習】 一個 50 個數字的 array\n",
    "\n",
    "先想辦法、用亂數做出 50 個數字的 array, 叫做 A 好了。"
   ]
  },
  {
   "cell_type": "code",
   "execution_count": 16,
   "metadata": {},
   "outputs": [
    {
     "name": "stdout",
     "output_type": "stream",
     "text": [
      "A = \n",
      "[[ 0.56547519 -0.7547822  -2.71839492 -0.43889241 -0.26176404 -1.36145887\n",
      "  -1.68343454  1.61985201 -0.69057071 -1.24678274  3.26580454  1.08439602\n",
      "   0.0745791   1.94647096 -0.66206024 -1.86572485  0.39698131 -1.65950243\n",
      "  -0.26163135  1.43906416  0.21589722 -0.33552764 -1.81355787  0.29336443\n",
      "   0.92967619 -0.43005094 -0.00860014  0.01474472  0.05572986  0.03875072\n",
      "   0.300072   -0.30347919  0.02965671  1.17354459  0.3777173   0.81370859\n",
      "   0.62530689  0.06502224  0.08618969 -0.18587104  0.0195918   0.17607058\n",
      "  -0.87672198  0.85737776  0.94508746 -0.22809842  1.53700293  1.00221084\n",
      "   1.47642495  0.41561843]]\n"
     ]
    }
   ],
   "source": [
    "A = np.random.randn(1, 50)\n",
    "print(f\"A = \\n{A}\")"
   ]
  },
  {
   "cell_type": "markdown",
   "metadata": {},
   "source": [
    "### 【技巧】 檢查 A 的 `shape`"
   ]
  },
  {
   "cell_type": "code",
   "execution_count": 17,
   "metadata": {},
   "outputs": [
    {
     "name": "stdout",
     "output_type": "stream",
     "text": [
      "row of A is 1, col of A is 50\n"
     ]
    }
   ],
   "source": [
    "row, col = A.shape\n",
    "print(f\"row of A is {row}, col of A is {col}\")"
   ]
  },
  {
   "cell_type": "markdown",
   "metadata": {},
   "source": [
    "### 【技巧】 更改 A 的 shape"
   ]
  },
  {
   "cell_type": "code",
   "execution_count": 18,
   "metadata": {},
   "outputs": [
    {
     "name": "stdout",
     "output_type": "stream",
     "text": [
      "row of A is 5, col of A is 10\n"
     ]
    }
   ],
   "source": [
    "A.resize(5, 10)\n",
    "row, col = A.shape\n",
    "print(f\"row of A is {row}, col of A is {col}\")"
   ]
  },
  {
   "cell_type": "markdown",
   "metadata": {},
   "source": [
    "### 【技巧】 也可以用 `reshape`\n",
    "\n",
    "但要注意, reshape 並沒有改原來的陣列。"
   ]
  },
  {
   "cell_type": "code",
   "execution_count": 20,
   "metadata": {},
   "outputs": [
    {
     "name": "stdout",
     "output_type": "stream",
     "text": [
      "row of A is 25, col of A is 2\n"
     ]
    }
   ],
   "source": [
    "A = A.reshape(25, 2)\n",
    "row, col = A.shape\n",
    "print(f\"row of A is {row}, col of A is {col}\")"
   ]
  },
  {
   "cell_type": "markdown",
   "metadata": {},
   "source": [
    "### 【技巧】 拉平 `ravel`\n",
    "\n",
    "雖然你想一想就知道可以用 `shape` 或 `reshape` 把多維陣列拉成一維。不過用 `ravel` 很潮。"
   ]
  },
  {
   "cell_type": "code",
   "execution_count": 36,
   "metadata": {},
   "outputs": [
    {
     "data": {
      "text/plain": [
       "array([0.7372234 , 0.6126442 , 0.27626397, 0.28984569, 0.4988311 ,\n",
       "       0.42021495, 0.4515489 , 0.15328583, 0.93455268, 0.23537373,\n",
       "       0.24761985, 0.41945762, 0.44871061, 0.66726833, 0.15622678,\n",
       "       0.70315927, 0.98138833, 0.8233088 , 0.85394749, 0.14797509,\n",
       "       0.32816167, 0.64607213, 0.96849395, 0.90799427, 0.19579351,\n",
       "       0.35618479, 0.30311169, 0.32568614, 0.66885309, 0.67844806,\n",
       "       0.18201376, 0.69592441, 0.11077285, 0.22884185, 0.29488536,\n",
       "       0.90457337, 0.19872841, 0.38361489, 0.35731267, 0.76200102,\n",
       "       0.92178147, 0.44190395, 0.07941469, 0.03253205, 0.44805018,\n",
       "       0.38885104, 0.15473767, 0.55240742, 0.80182196, 0.70921062])"
      ]
     },
     "execution_count": 36,
     "metadata": {},
     "output_type": "execute_result"
    }
   ],
   "source": [
    "A = A.ravel(\"C\")\n",
    "print(f\"After calling ravel, A = \\n{A}\")"
   ]
  },
  {
   "cell_type": "markdown",
   "metadata": {},
   "source": [
    "## 4. 快速 array 生成法"
   ]
  },
  {
   "cell_type": "markdown",
   "metadata": {},
   "source": [
    "### 【技巧】 都是 0 的 array"
   ]
  },
  {
   "cell_type": "code",
   "execution_count": 26,
   "metadata": {},
   "outputs": [
    {
     "name": "stdout",
     "output_type": "stream",
     "text": [
      "zeros = \n",
      "[0. 0. 0. 0. 0.]\n"
     ]
    }
   ],
   "source": [
    "zeros = np.zeros(5)\n",
    "print(f\"zeros = \\n{zeros}\")"
   ]
  },
  {
   "cell_type": "markdown",
   "metadata": {},
   "source": [
    "### 【技巧】 都是 1 的 array"
   ]
  },
  {
   "cell_type": "code",
   "execution_count": 27,
   "metadata": {},
   "outputs": [
    {
     "name": "stdout",
     "output_type": "stream",
     "text": [
      "ones = \n",
      "[1. 1. 1. 1. 1.]\n"
     ]
    }
   ],
   "source": [
    "ones = np.ones(5)\n",
    "print(f\"ones = \\n{ones}\")"
   ]
  },
  {
   "cell_type": "markdown",
   "metadata": {},
   "source": [
    "### 【技巧】單位矩陣"
   ]
  },
  {
   "cell_type": "code",
   "execution_count": 28,
   "metadata": {},
   "outputs": [
    {
     "name": "stdout",
     "output_type": "stream",
     "text": [
      "identity = \n",
      "[[1. 0. 0. 0. 0.]\n",
      " [0. 1. 0. 0. 0.]\n",
      " [0. 0. 1. 0. 0.]\n",
      " [0. 0. 0. 1. 0.]\n",
      " [0. 0. 0. 0. 1.]]\n"
     ]
    }
   ],
   "source": [
    "identity = np.eye(5)\n",
    "print(f\"identity = \\n{identity}\")"
   ]
  },
  {
   "cell_type": "markdown",
   "metadata": {},
   "source": [
    "### 【技巧】給定範圍均勻生出 n 個點"
   ]
  },
  {
   "cell_type": "code",
   "execution_count": 30,
   "metadata": {},
   "outputs": [
    {
     "name": "stdout",
     "output_type": "stream",
     "text": [
      "points = \n",
      "[ 1.    3.25  5.5   7.75 10.  ]\n"
     ]
    }
   ],
   "source": [
    "points = np.linspace(1, 10, 5)\n",
    "print(f\"points = \\n{points}\")"
   ]
  },
  {
   "cell_type": "markdown",
   "metadata": {},
   "source": [
    "### 【技巧】`range` 的 array 版\n",
    "\n",
    "就是 `arange`。"
   ]
  },
  {
   "cell_type": "code",
   "execution_count": 31,
   "metadata": {},
   "outputs": [
    {
     "name": "stdout",
     "output_type": "stream",
     "text": [
      "array = \n",
      "[1.  1.2 1.4 1.6 1.8 2.  2.2 2.4 2.6 2.8 3.  3.2 3.4 3.6 3.8 4.  4.2 4.4\n",
      " 4.6 4.8 5.  5.2 5.4 5.6 5.8 6.  6.2 6.4 6.6 6.8 7.  7.2 7.4 7.6 7.8 8.\n",
      " 8.2 8.4 8.6 8.8 9.  9.2 9.4 9.6 9.8]\n"
     ]
    }
   ],
   "source": [
    "array = np.arange(1.0, 10.0, 0.2, float)\n",
    "print(f\"array = \\n{array}\")"
   ]
  },
  {
   "cell_type": "markdown",
   "metadata": {},
   "source": [
    "## 5. 超重要 `axis` 觀念\n",
    "\n",
    "初學 `numpy` 很多人有點弄不清楚 `axis` 概念。其實掌握矩陣, 或很像矩陣的陣列都是「先列後行」就可以!\n",
    "\n",
    "我們先弄個 array 來練習。"
   ]
  },
  {
   "cell_type": "code",
   "execution_count": 55,
   "metadata": {},
   "outputs": [
    {
     "data": {
      "text/plain": [
       "array([[0, 1, 2, 3, 4],\n",
       "       [5, 6, 7, 8, 9]])"
      ]
     },
     "execution_count": 55,
     "metadata": {},
     "output_type": "execute_result"
    }
   ],
   "source": [
    "array = np.arange(10)\n",
    "array.resize(2, 5)\n",
    "array"
   ]
  },
  {
   "cell_type": "markdown",
   "metadata": {},
   "source": [
    "### 【重點】 一列一列算下來是 `axis=0`"
   ]
  },
  {
   "cell_type": "markdown",
   "metadata": {},
   "source": [
    "![axis=0](images/axis0.png)"
   ]
  },
  {
   "cell_type": "code",
   "execution_count": 56,
   "metadata": {},
   "outputs": [
    {
     "data": {
      "text/plain": [
       "array([ 5,  7,  9, 11, 13])"
      ]
     },
     "execution_count": 56,
     "metadata": {},
     "output_type": "execute_result"
    }
   ],
   "source": [
    "array.sum(axis = 0)"
   ]
  },
  {
   "cell_type": "markdown",
   "metadata": {},
   "source": [
    "### 【重點】 一行一行算過去是 `axis=1`\n",
    "\n",
    "![axis=1](images/axis1.png)"
   ]
  },
  {
   "cell_type": "code",
   "execution_count": 57,
   "metadata": {},
   "outputs": [
    {
     "data": {
      "text/plain": [
       "array([10, 35])"
      ]
     },
     "execution_count": 57,
     "metadata": {},
     "output_type": "execute_result"
    }
   ],
   "source": [
    "array.sum(axis = 1)"
   ]
  },
  {
   "cell_type": "markdown",
   "metadata": {},
   "source": [
    "### 【提示】當然也有可能全部算"
   ]
  },
  {
   "cell_type": "code",
   "execution_count": 59,
   "metadata": {},
   "outputs": [
    {
     "data": {
      "text/plain": [
       "45"
      ]
     },
     "execution_count": 59,
     "metadata": {},
     "output_type": "execute_result"
    }
   ],
   "source": [
    "array.sum()"
   ]
  },
  {
   "cell_type": "markdown",
   "metadata": {},
   "source": [
    "## 6. array 過濾器\n",
    "\n",
    "篩出我們要的資料, 這樣的技巧非常重要!"
   ]
  },
  {
   "cell_type": "markdown",
   "metadata": {},
   "source": [
    "### 【例子】篩出大於 0 的數\n",
    "\n",
    "我們有個陣列, 想找出大於 0 的數。<br>\n",
    "L = np.array([3, -2, -1, 5, 7, -3])"
   ]
  },
  {
   "cell_type": "code",
   "execution_count": 61,
   "metadata": {},
   "outputs": [
    {
     "data": {
      "text/plain": [
       "array([3, 5, 7])"
      ]
     },
     "execution_count": 61,
     "metadata": {},
     "output_type": "execute_result"
    }
   ],
   "source": [
    "L = np.array([3, -2, -1, 5, 7, -3])\n",
    "L = L[L>0]"
   ]
  },
  {
   "cell_type": "markdown",
   "metadata": {},
   "source": [
    "事實上我們可以叫 `numpy` 做!"
   ]
  },
  {
   "cell_type": "code",
   "execution_count": 61,
   "metadata": {},
   "outputs": [
    {
     "data": {
      "text/plain": [
       "array([ True, False, False,  True,  True, False])"
      ]
     },
     "execution_count": 61,
     "metadata": {},
     "output_type": "execute_result"
    }
   ],
   "source": [
    "L > 0"
   ]
  },
  {
   "cell_type": "markdown",
   "metadata": {},
   "source": [
    "這有點強, 我們還可以一次到位!"
   ]
  },
  {
   "cell_type": "markdown",
   "metadata": {},
   "source": [
    "## 7. 次元切割刀\n",
    "\n",
    "`numpy` 中 array 的切割法和 list 很像。"
   ]
  },
  {
   "cell_type": "code",
   "execution_count": 62,
   "metadata": {},
   "outputs": [],
   "source": [
    "a = np.array([[0, 1, 2, 3, 4], [5, 6, 7, 8, 9]])\n",
    "b = np.array([[1, 2],[6, 7]])"
   ]
  },
  {
   "cell_type": "markdown",
   "metadata": {},
   "source": [
    "### 【技巧】2維陣列切法\n",
    "\n",
    "記得先列後行!"
   ]
  },
  {
   "cell_type": "markdown",
   "metadata": {},
   "source": [
    "要所有的row, 切出行 1-3 位置。"
   ]
  },
  {
   "cell_type": "code",
   "execution_count": 66,
   "metadata": {},
   "outputs": [
    {
     "name": "stdout",
     "output_type": "stream",
     "text": [
      "A = \n",
      "[[0 1 2 3 4]\n",
      " [5 6 7 8 9]]\n",
      "要所有的row, 切出行 1-3 位置:\n",
      "[[1 2 3]\n",
      " [6 7 8]]\n"
     ]
    }
   ],
   "source": [
    "print(f\"A = \\n{a}\")\n",
    "print(f\"要所有的row, 切出行 1-3 位置:\\n{a[:, 1:4]}\")"
   ]
  },
  {
   "cell_type": "markdown",
   "metadata": {},
   "source": [
    "要所有的行col, 切出第 1 列row!"
   ]
  },
  {
   "cell_type": "code",
   "execution_count": 68,
   "metadata": {},
   "outputs": [
    {
     "name": "stdout",
     "output_type": "stream",
     "text": [
      "B = \n",
      "[[1 2]\n",
      " [6 7]]\n",
      "要所有的行col, 切出第 1 列row:\n",
      "[6 7]\n"
     ]
    }
   ],
   "source": [
    "print(f\"B = \\n{b}\")\n",
    "print(f\"要所有的行col, 切出第 1 列row:\\n{b[1, :]}\")"
   ]
  },
  {
   "cell_type": "markdown",
   "metadata": {},
   "source": [
    "## 8. `NumPy` 的 `zip` 和 `unzip`"
   ]
  },
  {
   "cell_type": "markdown",
   "metadata": {},
   "source": [
    "之前我們介紹 list 可以用 `zip` 和 `unzip` (其實還是 `zip`) 做到的資料格式變換, 在 array 中怎麼做呢?\n",
    "\n",
    "![zip and unzip](images/zip.png)"
   ]
  },
  {
   "cell_type": "markdown",
   "metadata": {},
   "source": [
    "### 【重點】array 的 `zip`\n",
    "\n",
    "![array zip](images/arrzip.png)"
   ]
  },
  {
   "cell_type": "code",
   "execution_count": 69,
   "metadata": {},
   "outputs": [],
   "source": [
    "# a, b are column vectors\n",
    "a = np.array([1,2,3,4,5])\n",
    "b = np.array([6,7,8,9,10])"
   ]
  },
  {
   "cell_type": "code",
   "execution_count": 79,
   "metadata": {},
   "outputs": [
    {
     "data": {
      "text/plain": [
       "array([[ 1,  6],\n",
       "       [ 2,  7],\n",
       "       [ 3,  8],\n",
       "       [ 4,  9],\n",
       "       [ 5, 10]])"
      ]
     },
     "execution_count": 79,
     "metadata": {},
     "output_type": "execute_result"
    }
   ],
   "source": [
    "X = np.c_[a, b]\n",
    "X"
   ]
  },
  {
   "cell_type": "code",
   "execution_count": 75,
   "metadata": {},
   "outputs": [
    {
     "data": {
      "text/plain": [
       "array([ 1,  2,  3,  4,  5,  6,  7,  8,  9, 10])"
      ]
     },
     "execution_count": 75,
     "metadata": {},
     "output_type": "execute_result"
    }
   ],
   "source": [
    "Y = np.r_[a, b]\n",
    "Y"
   ]
  },
  {
   "cell_type": "markdown",
   "metadata": {},
   "source": [
    "### 【重點】array 的 `unzip`\n",
    "\n",
    "這裡其實只需要用到 array 的切割法...\n",
    "\n",
    "![array zip](images/arrunzip.png)"
   ]
  },
  {
   "cell_type": "code",
   "execution_count": 80,
   "metadata": {},
   "outputs": [
    {
     "data": {
      "text/plain": [
       "array([1, 2, 3, 4, 5])"
      ]
     },
     "execution_count": 80,
     "metadata": {},
     "output_type": "execute_result"
    }
   ],
   "source": [
    "X[:, 0]"
   ]
  }
 ],
 "metadata": {
  "kernelspec": {
   "display_name": "Python 3 (ipykernel)",
   "language": "python",
   "name": "python3"
  },
  "language_info": {
   "codemirror_mode": {
    "name": "ipython",
    "version": 3
   },
   "file_extension": ".py",
   "mimetype": "text/x-python",
   "name": "python",
   "nbconvert_exporter": "python",
   "pygments_lexer": "ipython3",
   "version": "3.9.12"
  }
 },
 "nbformat": 4,
 "nbformat_minor": 2
}
